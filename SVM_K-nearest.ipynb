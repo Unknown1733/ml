{
 "cells": [
  {
   "cell_type": "markdown",
   "metadata": {
    "id": "gQEJyICqI7XN"
   },
   "source": [
    "# **Classification Analysis**\n"
   ]
  },
  {
   "cell_type": "markdown",
   "metadata": {
    "id": "ClZ-7ftdI8Fl"
   },
   "source": [
    "#### A. Implementation of Support Vector Machines (SVM) for classifying images of hand-written digits into their respective numerical classes (0 to 9).\n"
   ]
  },
  {
   "cell_type": "markdown",
   "metadata": {
    "id": "Jb0oAAA1KNAR"
   },
   "source": [
    "\n",
    "**_Why SVM?_**\n",
    "\n",
    "Support Vector Machines are powerful for classification problems, especially when dealing with high-dimensional data (like pixel data in images). SVM tries to find the best decision boundary (hyperplane) that separates the classes.\n"
   ]
  },
  {
   "cell_type": "code",
   "execution_count": 1,
   "metadata": {
    "colab": {
     "base_uri": "https://localhost:8080/",
     "height": 285
    },
    "id": "7E8JZbl5MolU",
    "outputId": "5172fcfb-1b16-4d8a-c785-8760be6f4fa2"
   },
   "outputs": [
    {
     "name": "stdout",
     "output_type": "stream",
     "text": [
      "Dataset shape: (1797, 8, 8)\n",
      "Number of samples: 1797\n",
      "Number of features per sample: 64\n",
      "Target labels (digits): {0, 1, 2, 3, 4, 5, 6, 7, 8, 9}\n"
     ]
    },
    {
     "data": {
      "image/png": "[encoded data removed]",
      "text/plain": [
       "<Figure size 1000x300 with 5 Axes>"
      ]
     },
     "metadata": {},
     "output_type": "display_data"
    }
   ],
   "source": [
    "from sklearn import datasets\n",
    "import matplotlib.pyplot as plt\n",
    "\n",
    "# Load the digits dataset\n",
    "digits = datasets.load_digits()\n",
    "\n",
    "# Inspect the dataset\n",
    "print(f\"Dataset shape: {digits.images.shape}\")\n",
    "print(f\"Number of samples: {len(digits.images)}\")\n",
    "print(f\"Number of features per sample: {digits.data.shape[1]}\")\n",
    "print(f\"Target labels (digits): {set(digits.target)}\")\n",
    "\n",
    "# Display a few images with their labels\n",
    "fig, axes = plt.subplots(1, 5, figsize=(10, 3))\n",
    "for i, ax in enumerate(axes):\n",
    "    ax.imshow(digits.images[i], cmap='gray')\n",
    "    ax.set_title(f\"Label: {digits.target[i]}\")\n",
    "plt.show()\n"
   ]
  },
  {
   "cell_type": "code",
   "execution_count": 2,
   "metadata": {
    "colab": {
     "base_uri": "https://localhost:8080/"
    },
    "id": "Od9BGH3RMpVt",
    "outputId": "6b174fa5-e22d-428b-fa73-88fb0cb56bb5"
   },
   "outputs": [
    {
     "name": "stdout",
     "output_type": "stream",
     "text": [
      "Training set shape: (1347, 64)\n",
      "Test set shape: (450, 64)\n"
     ]
    }
   ],
   "source": [
    "from sklearn.model_selection import train_test_split\n",
    "from sklearn.preprocessing import StandardScaler\n",
    "\n",
    "# Flatten the images for input to the SVM model\n",
    "X = digits.data  # Shape: (1797, 64) - each sample has 64 pixel features\n",
    "y = digits.target  # Shape: (1797,) - target labels (digits 0-9)\n",
    "\n",
    "# Normalize the pixel values to a range of 0 to 1\n",
    "scaler = StandardScaler()\n",
    "X_scaled = scaler.fit_transform(X)\n",
    "\n",
    "# Split the dataset into 75% training and 25% testing\n",
    "X_train, X_test, y_train, y_test = train_test_split(X_scaled, y, test_size=0.25, random_state=42)\n",
    "\n",
    "# Check the shapes of the train and test sets\n",
    "print(f\"Training set shape: {X_train.shape}\")\n",
    "print(f\"Test set shape: {X_test.shape}\")\n"
   ]
  },
  {
   "cell_type": "markdown",
   "metadata": {
    "id": "vRAOz300KOdv"
   },
   "source": [
    "### Choosing the SVM Kernel\n",
    "The SVM algorithm allows us to use different kernels for mapping non-linear relationships in data:\n",
    "\n",
    "**Linear Kernel:** Used when the data is linearly separable.\n",
    "\n",
    "**RBF (Radial Basis Function) Kernel:** Works well for non-linear data by adding a Gaussian transformation to the data points.\n",
    "\n",
    "We'll experiment with both linear and RBF kernels and see which one performs better on this dataset.\n",
    "\n",
    "**Why Start with Linear Kernel?**\n",
    "\n",
    "Since our data has relatively high dimensionality (64 features), linear SVM can be a good first option. If we notice that the linear model is underperforming, we'll try a more flexible non-linear kernel.\n",
    "\n",
    "---"
   ]
  },
  {
   "cell_type": "code",
   "execution_count": 3,
   "metadata": {
    "colab": {
     "base_uri": "https://localhost:8080/"
    },
    "id": "b2m0qr8hMp8T",
    "outputId": "bb6505d8-f2ab-496b-e0f8-3886fb1198ee"
   },
   "outputs": [
    {
     "name": "stdout",
     "output_type": "stream",
     "text": [
      "\n",
      "Linear Kernel SVM Performance:\n",
      "Accuracy: 97.78%\n",
      "              precision    recall  f1-score   support\n",
      "\n",
      "           0       0.98      1.00      0.99        43\n",
      "           1       0.97      1.00      0.99        37\n",
      "           2       0.97      1.00      0.99        38\n",
      "           3       0.96      0.96      0.96        46\n",
      "           4       1.00      1.00      1.00        55\n",
      "           5       0.97      0.97      0.97        59\n",
      "           6       0.98      0.98      0.98        45\n",
      "           7       0.98      0.98      0.98        41\n",
      "           8       1.00      0.95      0.97        38\n",
      "           9       0.98      0.96      0.97        48\n",
      "\n",
      "    accuracy                           0.98       450\n",
      "   macro avg       0.98      0.98      0.98       450\n",
      "weighted avg       0.98      0.98      0.98       450\n",
      "\n"
     ]
    }
   ],
   "source": [
    "from sklearn.svm import SVC\n",
    "from sklearn.metrics import classification_report, accuracy_score\n",
    "\n",
    "svm_linear = SVC(kernel='linear', random_state=42)\n",
    "svm_linear.fit(X_train, y_train)\n",
    "\n",
    "y_pred_linear = svm_linear.predict(X_test)\n",
    "\n",
    "print(\"\\nLinear Kernel SVM Performance:\")\n",
    "print(f\"Accuracy: {accuracy_score(y_test, y_pred_linear) * 100:.2f}%\")\n",
    "print(classification_report(y_test, y_pred_linear))\n"
   ]
  },
  {
   "cell_type": "code",
   "execution_count": 4,
   "metadata": {
    "colab": {
     "base_uri": "https://localhost:8080/"
    },
    "id": "SnUWDyGSf9lp",
    "outputId": "8337d5e7-d805-4a42-8926-e71cbda83492"
   },
   "outputs": [
    {
     "data": {
      "image/png": "[encoded data removed]",
      "text/plain": [
       "<Figure size 1000x500 with 10 Axes>"
      ]
     },
     "metadata": {},
     "output_type": "display_data"
    }
   ],
   "source": [
    "_, axes = plt.subplots(2, 5, figsize=(10, 5))\n",
    "for ax, image, label in zip(axes.ravel(), X_test, y_test):\n",
    "    ax.imshow(image.reshape(8, 8), cmap=plt.cm.gray_r)\n",
    "    ax.set_title(f'True: {label}')\n",
    "    ax.axis('off')\n",
    "plt.show()"
   ]
  },
  {
   "cell_type": "markdown",
   "metadata": {
    "id": "7uhz3gHKgcf3"
   },
   "source": [
    "### **Conclusion:**\n",
    "\n",
    "Linear SVM offers a strong, fast baseline performance that is close to 98%, which is excellent given that it operates in a lower-dimensional feature space without mapping to non-linear regions.\n",
    "\n",
    "These results demonstrate the strength of SVM for image classification, and further improvements could be explored through techniques like feature extraction or dimensionality reduction (e.g., PCA), though the performance is already very strong."
   ]
  },
  {
   "cell_type": "markdown",
   "metadata": {
    "id": "IaPtjB_AI7xw"
   },
   "source": [
    "## **B. Implement K-Nearest Neighbours’ algorithm on Social network ad dataset. Compute confusion matrix, accuracy, error rate, precision and recall on the given dataset.**\n",
    "Dataset link:https://www.kaggle.com/datasets/rakeshrau/social-network-ads"
   ]
  },
  {
   "cell_type": "markdown",
   "metadata": {
    "id": "PJCMQlkIgrd-"
   },
   "source": [
    "### Step 1: Understanding the Problem\n",
    "\n",
    "The goal is to use the Social Network Ads dataset to classify whether a user purchases a product based on their age and salary, using the K-Nearest Neighbors (KNN) algorithm. Our evaluation metrics will include the confusion matrix, accuracy, error rate, precision, and recall.\n",
    "\n",
    "**Why KNN?**\n",
    "\n",
    "KNN is a simple, non-parametric algorithm that classifies new data points based on similarity (distance) to its neighbors. It's ideal for this classification problem because we have relatively few features (age and salary), and we want to categorize users into one of two classes (Purchased: 0 or 1).\n",
    "\n",
    "---"
   ]
  },
  {
   "cell_type": "code",
   "execution_count": 5,
   "metadata": {},
   "outputs": [],
   "source": [
    "import pandas as pd\n",
    "import numpy as np\n",
    "from sklearn.model_selection import train_test_split\n",
    "from sklearn.preprocessing import StandardScaler, LabelEncoder\n",
    "from sklearn.neighbors import KNeighborsClassifier\n",
    "from sklearn.metrics import confusion_matrix, accuracy_score, precision_score, recall_score"
   ]
  },
  {
   "cell_type": "code",
   "execution_count": 6,
   "metadata": {
    "colab": {
     "base_uri": "https://localhost:8080/"
    },
    "id": "1tlELaAJXrX2",
    "outputId": "e7be2396-3e93-425b-a9d4-e73b1af4f72c"
   },
   "outputs": [
    {
     "name": "stdout",
     "output_type": "stream",
     "text": [
      "<class 'pandas.core.frame.DataFrame'>\n",
      "RangeIndex: 400 entries, 0 to 399\n",
      "Data columns (total 5 columns):\n",
      " #   Column           Non-Null Count  Dtype \n",
      "---  ------           --------------  ----- \n",
      " 0   User ID          400 non-null    int64 \n",
      " 1   Gender           400 non-null    object\n",
      " 2   Age              400 non-null    int64 \n",
      " 3   EstimatedSalary  400 non-null    int64 \n",
      " 4   Purchased        400 non-null    int64 \n",
      "dtypes: int64(4), object(1)\n",
      "memory usage: 15.8+ KB\n",
      "None\n",
      "    User ID  Gender  Age  EstimatedSalary  Purchased\n",
      "0  15624510    Male   19            19000          0\n",
      "1  15810944    Male   35            20000          0\n",
      "2  15668575  Female   26            43000          0\n",
      "3  15603246  Female   27            57000          0\n",
      "4  15804002    Male   19            76000          0\n"
     ]
    }
   ],
   "source": [
    "# Load dataset\n",
    "dataset = pd.read_csv('./datasets/Social_Network_Ads.csv')\n",
    "\n",
    "# View basic details\n",
    "print(dataset.info())\n",
    "print(dataset.head())"
   ]
  },
  {
   "cell_type": "markdown",
   "metadata": {
    "id": "PsMQw9Qkhjhx"
   },
   "source": [
    "\n",
    "**Dataset Observations:**\n",
    "\n",
    "_Features:_\n",
    "\n",
    "1. `User ID`: Doesn't seem useful for prediction; we can ignore it as it's a unique identifier.\n",
    "2. `Gender`: Might be interesting, but converting it into numerical form (0 for male, 1 for female) could be useful if we decide to include it.\n",
    "3. `Age`: Definitely a key factor in predicting purchase behavior.\n",
    "4. `EstimatedSalary`: Another key factor, as a higher salary could correlate with higher purchasing power.\n",
    "5. `Purchased`: This is our target variable, where 1 indicates the person made a purchase and 0 indicates they didn't.\n",
    "\n"
   ]
  },
  {
   "cell_type": "code",
   "execution_count": 7,
   "metadata": {
    "id": "6x3Ckklgi08G"
   },
   "outputs": [
    {
     "name": "stdout",
     "output_type": "stream",
     "text": [
      "              Age  EstimatedSalary   Purchased\n",
      "count  400.000000       400.000000  400.000000\n",
      "mean    37.655000     69742.500000    0.357500\n",
      "std     10.482877     34096.960282    0.479864\n",
      "min     18.000000     15000.000000    0.000000\n",
      "25%     29.750000     43000.000000    0.000000\n",
      "50%     37.000000     70000.000000    0.000000\n",
      "75%     46.000000     88000.000000    1.000000\n",
      "max     60.000000    150000.000000    1.000000\n"
     ]
    }
   ],
   "source": [
    "dataset = dataset.drop(columns=['User ID'])\n",
    "print(dataset.describe())"
   ]
  },
  {
   "cell_type": "code",
   "execution_count": 8,
   "metadata": {
    "colab": {
     "base_uri": "https://localhost:8080/"
    },
    "id": "yMLYRDEsk7D2",
    "outputId": "92b42d1e-243d-4128-86ee-2e88d341c585"
   },
   "outputs": [],
   "source": [
    "dataset['Gender'] = LabelEncoder().fit_transform(dataset['Gender'])\n",
    "\n",
    "X = dataset.iloc[:, :-1].values   \n",
    "y = dataset.iloc[:, -1].values\n",
    "\n",
    "scaler = StandardScaler()\n",
    "X_scaled = scaler.fit_transform(X)\n",
    "\n"
   ]
  },
  {
   "cell_type": "code",
   "execution_count": 9,
   "metadata": {
    "colab": {
     "base_uri": "https://localhost:8080/"
    },
    "id": "qRQwXJ6cXt3s",
    "outputId": "c5d16ef3-64a2-449f-eea4-fe41ca620d9f"
   },
   "outputs": [
    {
     "name": "stdout",
     "output_type": "stream",
     "text": [
      "\n",
      "Training set size: 300\n",
      "Test set size: 100\n"
     ]
    }
   ],
   "source": [
    "X_train, X_test, y_train, y_test = train_test_split(X_scaled, y, test_size=0.25, random_state=42)\n",
    "# Check the shapes to ensure proper split\n",
    "print(f\"\\nTraining set size: {X_train.shape[0]}\")\n",
    "print(f\"Test set size: {X_test.shape[0]}\")"
   ]
  },
  {
   "cell_type": "code",
   "execution_count": 10,
   "metadata": {
    "id": "DHE9f81uX0QT"
   },
   "outputs": [],
   "source": [
    "# Create KNN classifier with K=5\n",
    "knn_classifier = KNeighborsClassifier(n_neighbors=5)\n",
    "knn_classifier.fit(X_train, y_train)\n",
    "\n",
    "# Make predictions on the test set\n",
    "y_pred = knn_classifier.predict(X_test)"
   ]
  },
  {
   "cell_type": "markdown",
   "metadata": {
    "id": "Ch9v_CLVu08t"
   },
   "source": [
    "### Step 9: Model Evaluation\n",
    "We will evaluate the model using various metrics: confusion matrix, accuracy, error rate, precision, and recall.\n",
    "\n",
    "---"
   ]
  },
  {
   "cell_type": "code",
   "execution_count": 11,
   "metadata": {
    "colab": {
     "base_uri": "https://localhost:8080/"
    },
    "id": "8g_c3gyGX_x0",
    "outputId": "a8591cc4-2d6a-45a0-980e-202e7fac9de4"
   },
   "outputs": [
    {
     "name": "stdout",
     "output_type": "stream",
     "text": [
      "\n",
      "Confusion Matrix:\n",
      "[[58  5]\n",
      " [ 3 34]]\n",
      "\n",
      "Accuracy: 92.00%\n",
      "Error Rate: 8.00%\n",
      "Precision: 0.87\n",
      "Recall: 0.92\n"
     ]
    }
   ],
   "source": [
    "# Confusion matrix\n",
    "cm = confusion_matrix(y_test, y_pred)\n",
    "print(\"\\nConfusion Matrix:\")\n",
    "print(cm)\n",
    "\n",
    "# Accuracy, error rate, precision, and recall\n",
    "accuracy = accuracy_score(y_test, y_pred)\n",
    "error_rate = 1 - accuracy\n",
    "precision = precision_score(y_test, y_pred)\n",
    "recall = recall_score(y_test, y_pred)\n",
    "\n",
    "print(f\"\\nAccuracy: {accuracy * 100:.2f}%\")\n",
    "print(f\"Error Rate: {error_rate * 100:.2f}%\")\n",
    "print(f\"Precision: {precision:.2f}\")\n",
    "print(f\"Recall: {recall:.2f}\")"
   ]
  },
  {
   "cell_type": "markdown",
   "metadata": {
    "id": "_RnHyA-xvLgR"
   },
   "source": [
    "---\n",
    "\n",
    "**Observations:**\n",
    "\n",
    "- **Confusion Matrix:** Shows the number of True Positives, True Negatives, False Positives, and False Negatives.\n",
    "- **Accuracy**: The percentage of correct predictions.\n",
    "- **Error Rate:** The percentage of incorrect predictions.\n",
    "- **Precision**: How many predicted positives are actually positive.\n",
    "- **Recall**: How many actual positives were predicted correctly.\n",
    "\n",
    "---"
   ]
  },
  {
   "cell_type": "code",
   "execution_count": null,
   "metadata": {},
   "outputs": [],
   "source": []
  }
 ],
 "metadata": {
  "colab": {
   "provenance": []
  },
  "kernelspec": {
   "display_name": "Python 3 (ipykernel)",
   "language": "python",
   "name": "python3"
  },
  "language_info": {
   "codemirror_mode": {
    "name": "ipython",
    "version": 3
   },
   "file_extension": ".py",
   "mimetype": "text/x-python",
   "name": "python",
   "nbconvert_exporter": "python",
   "pygments_lexer": "ipython3",
   "version": "3.11.4"
  }
 },
 "nbformat": 4,
 "nbformat_minor": 4
}
